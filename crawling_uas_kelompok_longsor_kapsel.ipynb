{
  "nbformat": 4,
  "nbformat_minor": 0,
  "metadata": {
    "colab": {
      "name": "crawling uas kelompok longsor kapsel.ipynb",
      "provenance": [],
      "collapsed_sections": []
    },
    "kernelspec": {
      "name": "python3",
      "display_name": "Python 3"
    },
    "language_info": {
      "name": "python"
    }
  },
  "cells": [
    {
      "cell_type": "code",
      "metadata": {
        "colab": {
          "base_uri": "https://localhost:8080/"
        },
        "id": "NSSyFQD66jh8",
        "outputId": "ead72135-ca64-47b3-9286-05a011beb93a"
      },
      "source": [
        "!pip install unidecode twython tweepy beautifulsoup4 tika"
      ],
      "execution_count": 1,
      "outputs": [
        {
          "output_type": "stream",
          "name": "stdout",
          "text": [
            "Collecting unidecode\n",
            "  Downloading Unidecode-1.3.2-py3-none-any.whl (235 kB)\n",
            "\u001b[?25l\r\u001b[K     |█▍                              | 10 kB 28.9 MB/s eta 0:00:01\r\u001b[K     |██▉                             | 20 kB 30.9 MB/s eta 0:00:01\r\u001b[K     |████▏                           | 30 kB 36.5 MB/s eta 0:00:01\r\u001b[K     |█████▋                          | 40 kB 41.1 MB/s eta 0:00:01\r\u001b[K     |███████                         | 51 kB 33.1 MB/s eta 0:00:01\r\u001b[K     |████████▍                       | 61 kB 28.2 MB/s eta 0:00:01\r\u001b[K     |█████████▊                      | 71 kB 25.6 MB/s eta 0:00:01\r\u001b[K     |███████████▏                    | 81 kB 25.4 MB/s eta 0:00:01\r\u001b[K     |████████████▌                   | 92 kB 27.2 MB/s eta 0:00:01\r\u001b[K     |██████████████                  | 102 kB 28.8 MB/s eta 0:00:01\r\u001b[K     |███████████████▎                | 112 kB 28.8 MB/s eta 0:00:01\r\u001b[K     |████████████████▊               | 122 kB 28.8 MB/s eta 0:00:01\r\u001b[K     |██████████████████              | 133 kB 28.8 MB/s eta 0:00:01\r\u001b[K     |███████████████████▌            | 143 kB 28.8 MB/s eta 0:00:01\r\u001b[K     |████████████████████▉           | 153 kB 28.8 MB/s eta 0:00:01\r\u001b[K     |██████████████████████▎         | 163 kB 28.8 MB/s eta 0:00:01\r\u001b[K     |███████████████████████▋        | 174 kB 28.8 MB/s eta 0:00:01\r\u001b[K     |█████████████████████████       | 184 kB 28.8 MB/s eta 0:00:01\r\u001b[K     |██████████████████████████▍     | 194 kB 28.8 MB/s eta 0:00:01\r\u001b[K     |███████████████████████████▉    | 204 kB 28.8 MB/s eta 0:00:01\r\u001b[K     |█████████████████████████████▏  | 215 kB 28.8 MB/s eta 0:00:01\r\u001b[K     |██████████████████████████████▋ | 225 kB 28.8 MB/s eta 0:00:01\r\u001b[K     |████████████████████████████████| 235 kB 28.8 MB/s eta 0:00:01\r\u001b[K     |████████████████████████████████| 235 kB 28.8 MB/s \n",
            "\u001b[?25hCollecting twython\n",
            "  Downloading twython-3.9.1-py3-none-any.whl (33 kB)\n",
            "Requirement already satisfied: tweepy in /usr/local/lib/python3.7/dist-packages (3.10.0)\n",
            "Requirement already satisfied: beautifulsoup4 in /usr/local/lib/python3.7/dist-packages (4.6.3)\n",
            "Collecting tika\n",
            "  Downloading tika-1.24.tar.gz (28 kB)\n",
            "Requirement already satisfied: requests>=2.1.0 in /usr/local/lib/python3.7/dist-packages (from twython) (2.23.0)\n",
            "Requirement already satisfied: requests-oauthlib>=0.4.0 in /usr/local/lib/python3.7/dist-packages (from twython) (1.3.0)\n",
            "Requirement already satisfied: chardet<4,>=3.0.2 in /usr/local/lib/python3.7/dist-packages (from requests>=2.1.0->twython) (3.0.4)\n",
            "Requirement already satisfied: urllib3!=1.25.0,!=1.25.1,<1.26,>=1.21.1 in /usr/local/lib/python3.7/dist-packages (from requests>=2.1.0->twython) (1.24.3)\n",
            "Requirement already satisfied: certifi>=2017.4.17 in /usr/local/lib/python3.7/dist-packages (from requests>=2.1.0->twython) (2021.10.8)\n",
            "Requirement already satisfied: idna<3,>=2.5 in /usr/local/lib/python3.7/dist-packages (from requests>=2.1.0->twython) (2.10)\n",
            "Requirement already satisfied: oauthlib>=3.0.0 in /usr/local/lib/python3.7/dist-packages (from requests-oauthlib>=0.4.0->twython) (3.1.1)\n",
            "Requirement already satisfied: six>=1.10.0 in /usr/local/lib/python3.7/dist-packages (from tweepy) (1.15.0)\n",
            "Requirement already satisfied: PySocks!=1.5.7,>=1.5.6 in /usr/local/lib/python3.7/dist-packages (from requests>=2.1.0->twython) (1.7.1)\n",
            "Requirement already satisfied: setuptools in /usr/local/lib/python3.7/dist-packages (from tika) (57.4.0)\n",
            "Building wheels for collected packages: tika\n",
            "  Building wheel for tika (setup.py) ... \u001b[?25l\u001b[?25hdone\n",
            "  Created wheel for tika: filename=tika-1.24-py3-none-any.whl size=32891 sha256=804b1885a9ec88c4de50a358209a53db350ee913fd96b59f390883614f9de3b7\n",
            "  Stored in directory: /root/.cache/pip/wheels/ec/2b/38/58ff05467a742e32f67f5d0de048fa046e764e2fbb25ac93f3\n",
            "Successfully built tika\n",
            "Installing collected packages: unidecode, twython, tika\n",
            "Successfully installed tika-1.24 twython-3.9.1 unidecode-1.3.2\n"
          ]
        }
      ]
    },
    {
      "cell_type": "code",
      "metadata": {
        "id": "Y7OA6Zg_63xO"
      },
      "source": [
        "import warnings; warnings.simplefilter('ignore')\n",
        "import tweepy, json, nltk, urllib.request, requests\n",
        "from urllib.request import Request, urlopen\n",
        "from twython import TwythonStreamer\n",
        "from bs4 import BeautifulSoup as bs"
      ],
      "execution_count": 2,
      "outputs": []
    },
    {
      "cell_type": "code",
      "metadata": {
        "colab": {
          "base_uri": "https://localhost:8080/",
          "height": 35
        },
        "id": "huP3ZvZF7DQd",
        "outputId": "611928ec-1391-4fb0-a6d3-96d9bfec39b0"
      },
      "source": [
        "Ck = 'gchnKJTh8AGsFnrvJgM7k76V4' # consumer_key\n",
        "Cs = '6uknHWCJKaHeboqhPtue6cSpG4n6oa0K7ysj6Myp9OYGKU809q' # consumer_secret\n",
        "At = '1437586719935631363-Syv39uMo0EayIwDPHaZcnX00kaQdjJ' # access_token\n",
        "As = 'X5TgXGdd48Yhm0lcoweyekqH1pITlktpCoQJ3ch5LSmHL' # access_secret\n",
        "'Done'"
      ],
      "execution_count": 3,
      "outputs": [
        {
          "output_type": "execute_result",
          "data": {
            "application/vnd.google.colaboratory.intrinsic+json": {
              "type": "string"
            },
            "text/plain": [
              "'Done'"
            ]
          },
          "metadata": {},
          "execution_count": 3
        }
      ]
    },
    {
      "cell_type": "code",
      "metadata": {
        "id": "qeUvdBAv7J4n"
      },
      "source": [
        "def twitter_connect(Ck, Cs, At, As, verbose = 0):\n",
        "    try:\n",
        "        auth = tweepy.OAuthHandler(Ck, Cs)\n",
        "        auth.set_access_token(At, As)\n",
        "        twitter = tweepy.API(auth, timeout=120)\n",
        "        if verbose != 0:\n",
        "            user = twitter.verify_credentials()\n",
        "            print('Welcome \"%s\" you are now connected to twitter server' %user.name)\n",
        "        return twitter\n",
        "    except:\n",
        "        print(\"Connection failed, please check your API keys or connection\")\n",
        "        return None"
      ],
      "execution_count": 4,
      "outputs": []
    },
    {
      "cell_type": "code",
      "metadata": {
        "colab": {
          "base_uri": "https://localhost:8080/"
        },
        "id": "vQYXT2b77U8S",
        "outputId": "6a9c4fd8-aa79-4412-db74-1b5df561b059"
      },
      "source": [
        "# Koneksi ke twitter\n",
        "twitter = twitter_connect(Ck, Cs, At, As, verbose = 1)"
      ],
      "execution_count": 5,
      "outputs": [
        {
          "output_type": "stream",
          "name": "stdout",
          "text": [
            "Welcome \"Renata Suyudi\" you are now connected to twitter server\n"
          ]
        }
      ]
    },
    {
      "cell_type": "code",
      "metadata": {
        "colab": {
          "base_uri": "https://localhost:8080/"
        },
        "id": "erv21fgd7dFa",
        "outputId": "f5e9cee4-7251-454d-d347-25e7946d618e"
      },
      "source": [
        "# Max 30000 tweet per \"API call\"\n",
        "topic = 'banjir longsor'\n",
        "N = 100 # jumlah tweet yang ingin diambil\n",
        "bahasa = 'id'\n",
        "T = twitter.search(q=topic, lang=bahasa, count=N, tweet_mode = 'extended')\n",
        "tweets = [t._json for t in T]\n",
        "print(' Berhasil mendapatkan {} tweets'.format(len(tweets)))"
      ],
      "execution_count": 224,
      "outputs": [
        {
          "output_type": "stream",
          "name": "stdout",
          "text": [
            " Berhasil mendapatkan 100 tweets\n"
          ]
        }
      ]
    },
    {
      "cell_type": "code",
      "metadata": {
        "colab": {
          "base_uri": "https://localhost:8080/"
        },
        "id": "MeTxMh4--S6z",
        "outputId": "28dc0be9-e606-4245-910e-4f770f2d9c01"
      },
      "source": [
        "# Next data\n",
        "last_id = T[-1]._json['id'] - 1\n",
        "last_id\n",
        "T = twitter.search(q=topic, lang=bahasa, count=N, tweet_mode = 'extended', max_id=last_id)\n",
        "tweets.extend([t._json for t in T])\n",
        "\n",
        "print('Jumlah data sekarang = ', len(tweets))"
      ],
      "execution_count": 237,
      "outputs": [
        {
          "output_type": "stream",
          "name": "stdout",
          "text": [
            "Jumlah data sekarang =  1231\n"
          ]
        }
      ]
    },
    {
      "cell_type": "code",
      "metadata": {
        "colab": {
          "base_uri": "https://localhost:8080/"
        },
        "id": "Ech9mn74iIdd",
        "outputId": "03068863-5f3c-4393-abaa-e5fb636abe61"
      },
      "source": [
        "from google.colab import drive\n",
        "drive.mount('/content/drive')"
      ],
      "execution_count": 238,
      "outputs": [
        {
          "output_type": "stream",
          "name": "stdout",
          "text": [
            "Drive already mounted at /content/drive; to attempt to forcibly remount, call drive.mount(\"/content/drive\", force_remount=True).\n"
          ]
        }
      ]
    },
    {
      "cell_type": "code",
      "metadata": {
        "colab": {
          "base_uri": "https://localhost:8080/"
        },
        "id": "EVJInJnl_spR",
        "outputId": "2b9559a1-2aaa-45dd-97a6-1ed5ed49ef80"
      },
      "source": [
        "# Datanya berbentuk JSON\n",
        "tweets[0]['created_at'], tweets[0]['full_text'], "
      ],
      "execution_count": 239,
      "outputs": [
        {
          "output_type": "execute_result",
          "data": {
            "text/plain": [
              "('Tue Dec 07 07:07:33 +0000 2021',\n",
              " 'RT @KyaiTebas: Semeru Erupsi\\nKolaka, Blitar &amp; Temanggung diterjang puting beliung\\nBanjir &amp; Longsor di Lombok &amp; Bali\\nBanjir Rob di Jakarta U…')"
            ]
          },
          "metadata": {},
          "execution_count": 239
        }
      ]
    },
    {
      "cell_type": "code",
      "metadata": {
        "id": "4Y6J_RrQ_x5O"
      },
      "source": [
        "def saveTweets(tweets, file='databanjirlongsor.json'): #in Json Format\n",
        "    with open(file, 'w') as f:\n",
        "        for t in tweets:\n",
        "            try:\n",
        "                f.write(json.dumps(t)+'\\n')\n",
        "            except:\n",
        "                pass"
      ],
      "execution_count": 240,
      "outputs": []
    },
    {
      "cell_type": "code",
      "metadata": {
        "colab": {
          "base_uri": "https://localhost:8080/"
        },
        "id": "1SRmxA-6ADd8",
        "outputId": "120d87ca-d3db-4d2e-b455-85003544a193"
      },
      "source": [
        "# Menyimpan hasil crawling twitter\n",
        "fileName = 'databanjirlongsor.json'\n",
        "saveTweets(tweets,file=fileName)\n",
        "print('Saved to '+fileName)"
      ],
      "execution_count": 241,
      "outputs": [
        {
          "output_type": "stream",
          "name": "stdout",
          "text": [
            "Saved to databanjirlongsor.json\n"
          ]
        }
      ]
    }
  ]
}